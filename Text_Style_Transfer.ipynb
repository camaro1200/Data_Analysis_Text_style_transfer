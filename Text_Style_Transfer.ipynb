{
 "cells": [
  {
   "cell_type": "code",
   "execution_count": 1,
   "id": "63aff22f",
   "metadata": {},
   "outputs": [
    {
     "name": "stdout",
     "output_type": "stream",
     "text": [
      "/home/pshaburov/miniconda3/envs/nlp_env/bin/python\r\n"
     ]
    }
   ],
   "source": [
    "!which python"
   ]
  },
  {
   "cell_type": "code",
   "execution_count": 1,
   "id": "f574abf9",
   "metadata": {},
   "outputs": [
    {
     "name": "stderr",
     "output_type": "stream",
     "text": [
      "/tmp/ipykernel_1422411/3172552474.py:23: FutureWarning: Passing a negative integer is deprecated in version 1.0 and will not be supported in future version. Instead, use None to not limit the column width.\n",
      "  pd.set_option('display.max_colwidth', -1)\n"
     ]
    }
   ],
   "source": [
    "import typing as tp\n",
    "import numpy as np\n",
    "import pandas as pd\n",
    "import os\n",
    "\n",
    "from collections import defaultdict\n",
    "\n",
    "from tqdm import tqdm\n",
    "import torch.optim as optim\n",
    "import matplotlib.pyplot as plt\n",
    "\n",
    "import torch\n",
    "import torch.nn as nn\n",
    "import torch.nn.functional as F\n",
    "device = 'cuda:1' if torch.cuda.is_available() else 'cpu'\n",
    "\n",
    "from transformers import LineByLineTextDataset, DataCollatorForLanguageModeling\n",
    "from transformers import Trainer, TrainingArguments\n",
    "\n",
    "if device == 'cpu':\n",
    "    print(\"Fine-tuning BERT without an accelerator is not party-approved.\")\n",
    "\n",
    "pd.set_option('display.max_colwidth', -1)  "
   ]
  },
  {
   "cell_type": "markdown",
   "id": "154c0cb5",
   "metadata": {},
   "source": [
    "## Part 1 ~ Download Dataset + Finetune Bert Model on MLM objective"
   ]
  },
  {
   "cell_type": "code",
   "execution_count": 4,
   "id": "090da116",
   "metadata": {},
   "outputs": [],
   "source": [
    "!pip install -q transformers\n",
    "!wget -q https://github.com/shentianxiao/language-style-transfer/raw/master/data/yelp/sentiment.train.0 -O train_negative\n",
    "!wget -q https://github.com/shentianxiao/language-style-transfer/raw/master/data/yelp/sentiment.train.1 -O train_positive"
   ]
  },
  {
   "cell_type": "code",
   "execution_count": 5,
   "id": "4e701d08",
   "metadata": {},
   "outputs": [
    {
     "name": "stdout",
     "output_type": "stream",
     "text": [
      "i was sadly mistaken .\n",
      "so on to the hoagies , the italian is general run of the mill .\n",
      "minimal meat and a ton of shredded lettuce .\n",
      "nothing really special & not worthy of the $ _num_ price tag .\n",
      "second , the steak hoagie , it is atrocious .\n",
      "\n",
      "excellent food .\n",
      "superb customer service .\n",
      "they also have daily specials and ice cream which is really good .\n",
      "it 's a good toasted hoagie .\n",
      "the staff is friendly .\n"
     ]
    }
   ],
   "source": [
    "!head -n 5 ./train_negative\n",
    "!echo\n",
    "!head -n 5 ./train_positive"
   ]
  },
  {
   "cell_type": "markdown",
   "id": "cee3b401",
   "metadata": {},
   "source": [
    "### Helper Functions"
   ]
  },
  {
   "cell_type": "code",
   "execution_count": 2,
   "id": "1812bf6a",
   "metadata": {},
   "outputs": [],
   "source": [
    "def convergence_graph(loss_vals):\n",
    "    print(\"min loss value\", loss_vals[-1])\n",
    "\n",
    "    plt.plot(range(1, len(loss_vals) +1 ), loss_vals, color ='blue')\n",
    "    plt.rcParams[\"figure.figsize\"] = (10,6)\n",
    "    plt.grid()\n",
    "    plt.xlabel(\"Number of iterations\")\n",
    "    plt.ylabel(\"cost (J)\")\n",
    "    plt.title(\"Convergence of gradient descent\")\n",
    "\n",
    "def apply_mask(example: tp.Dict[str, tp.Any], device='cuda:0', percent=0.15):\n",
    "    \n",
    "    # copy real input_ids:\n",
    "    example['labels'] = example['input_ids'].detach().clone()\n",
    "    \n",
    "    # create random array of floats in equal dimension to input_ids\n",
    "    rand = torch.rand(example['input_ids'].shape).to(device)\n",
    "\n",
    "    # where the random array is less than 0.15, we set true\n",
    "    mask_arr = rand < percent *  (example['input_ids'] != 101) * (example['input_ids'] != 102) * (example['input_ids'] != 0) \n",
    "    \n",
    "    # create selection from mask_arr\n",
    "    selection = mask_arr.nonzero().tolist()\n",
    "\n",
    "    for i, j in selection:\n",
    "        example['input_ids'][i][j] = 103\n",
    "        \n",
    "    return example\n",
    "\n",
    "\n",
    "class PadSequence:\n",
    "    def __init__(self, padded_columns, device='cuda:1'):\n",
    "        self.padded_columns = set(padded_columns)\n",
    "        self.device = device\n",
    "\n",
    "    def __call__(self, batch):\n",
    "        padded_batch = defaultdict(list)\n",
    "        for example in batch:\n",
    "            for key, tensor in example.items():\n",
    "                padded_batch[key].append(tensor)\n",
    "            \n",
    "        #print(\"done\")       \n",
    "        for key, val in padded_batch.items():\n",
    "            #print(val)\n",
    "            if key in self.padded_columns:\n",
    "                padded_batch[key] = torch.nn.utils.rnn.pad_sequence(val, batch_first=True).to(self.device)\n",
    "        return padded_batch\n",
    "    \n",
    "\n",
    "class Dataset(torch.utils.data.Dataset):\n",
    "    def __init__(self, tokenizer, lines):\n",
    "        self.tokenizer = tokenizer\n",
    "        self.lines = lines\n",
    "       \n",
    "    def __len__(self):\n",
    "        'Denotes the total number of samples'\n",
    "        return len(self.lines)\n",
    "\n",
    "    def __getitem__(self, index):\n",
    "        'Generates one sample of data'\n",
    "        \n",
    "        sample = self.tokenizer(self.lines[index])\n",
    "        sample['input_ids'] = torch.as_tensor(sample['input_ids'])\n",
    "        sample['token_type_ids'] = torch.tensor(sample['token_type_ids'])\n",
    "        sample['attention_mask'] = torch.tensor(sample['attention_mask'])\n",
    "        sample['text'] = self.lines[index]\n",
    "        \n",
    "        return sample\n",
    "    "
   ]
  },
  {
   "cell_type": "markdown",
   "id": "9c95eaa8",
   "metadata": {},
   "source": [
    "### Load Bert Model\n",
    "- moving model to gpu"
   ]
  },
  {
   "cell_type": "code",
   "execution_count": 3,
   "id": "8760f019",
   "metadata": {},
   "outputs": [
    {
     "name": "stderr",
     "output_type": "stream",
     "text": [
      "Some weights of the model checkpoint at bert-base-uncased were not used when initializing BertForMaskedLM: ['cls.seq_relationship.weight', 'cls.seq_relationship.bias']\n",
      "- This IS expected if you are initializing BertForMaskedLM from the checkpoint of a model trained on another task or with another architecture (e.g. initializing a BertForSequenceClassification model from a BertForPreTraining model).\n",
      "- This IS NOT expected if you are initializing BertForMaskedLM from the checkpoint of a model that you expect to be exactly identical (initializing a BertForSequenceClassification model from a BertForSequenceClassification model).\n",
      "Some weights of the model checkpoint at bert-base-uncased were not used when initializing BertForMaskedLM: ['cls.seq_relationship.weight', 'cls.seq_relationship.bias']\n",
      "- This IS expected if you are initializing BertForMaskedLM from the checkpoint of a model trained on another task or with another architecture (e.g. initializing a BertForSequenceClassification model from a BertForPreTraining model).\n",
      "- This IS NOT expected if you are initializing BertForMaskedLM from the checkpoint of a model that you expect to be exactly identical (initializing a BertForSequenceClassification model from a BertForSequenceClassification model).\n"
     ]
    }
   ],
   "source": [
    "from transformers import BertTokenizer, BertForMaskedLM\n",
    "\n",
    "tokenizer = BertTokenizer.from_pretrained('bert-base-uncased')\n",
    "\n",
    "bert_mlm_positive = BertForMaskedLM.from_pretrained('bert-base-uncased', return_dict=True).to(device)\n",
    "\n",
    "bert_mlm_negative = BertForMaskedLM.from_pretrained('bert-base-uncased', return_dict=True).to(device)"
   ]
  },
  {
   "cell_type": "markdown",
   "id": "0c8a883c",
   "metadata": {},
   "source": [
    "### Dataset Preperation\n",
    "- build Dataset Object\n",
    "- build Dataloaders"
   ]
  },
  {
   "cell_type": "code",
   "execution_count": 4,
   "id": "ef03878f",
   "metadata": {},
   "outputs": [
    {
     "name": "stdout",
     "output_type": "stream",
     "text": [
      "50000\n",
      "50000\n",
      "i had to pay $ _num_ to add cheese to the hoagie .\n",
      "it 's a good toasted hoagie .\n"
     ]
    }
   ],
   "source": [
    "with open('train_negative', encoding=\"utf-8\") as f:\n",
    "    negative_lines = [line for line in f.read().splitlines() if (len(line) > 0 and not line.isspace())]\n",
    "    \n",
    "with open('train_positive', encoding=\"utf-8\") as f:\n",
    "    positive_lines = [line for line in f.read().splitlines() if (len(line) > 0 and not line.isspace())]\n",
    "\n",
    "negative_lines = negative_lines[:50000]\n",
    "positive_lines = positive_lines[:50000]\n",
    "\n",
    "print(len(negative_lines))\n",
    "print(len(positive_lines))\n",
    "\n",
    "# Get Datatset\n",
    "\n",
    "negative_dataset = Dataset(tokenizer, negative_lines)\n",
    "positive_dataset = Dataset(tokenizer, positive_lines)\n",
    "\n",
    "# Get TrainLoaders\n",
    "\n",
    "positive_loader = torch.utils.data.DataLoader(positive_dataset, \n",
    "                                               batch_size=32, \n",
    "                                               drop_last= True, \n",
    "                                               collate_fn=PadSequence(['input_ids', 'token_type_ids', 'attention_mask', 'labels'], device='cuda:0'\n",
    "                                                                          ))\n",
    "\n",
    "negative_loader = torch.utils.data.DataLoader(negative_dataset, \n",
    "                                              batch_size=32, \n",
    "                                              drop_last= True, \n",
    "                                              collate_fn=PadSequence(['input_ids', 'token_type_ids', 'attention_mask', 'labels'], device='cuda:0'\n",
    "                                                                          ))\n",
    "\n",
    "negative_batch = next(iter(negative_loader))\n",
    "print(negative_batch['text'][5])\n",
    "\n",
    "positive_batch = next(iter(positive_loader))\n",
    "print(positive_batch['text'][3])"
   ]
  },
  {
   "cell_type": "markdown",
   "id": "4cdf3953",
   "metadata": {},
   "source": [
    "### Pretrain Bert on Masked language modeling (MLM) objective\n",
    "- Attached below you can find training code that fine-tunes a BERT model for Masked Language Modeling"
   ]
  },
  {
   "cell_type": "code",
   "execution_count": 5,
   "id": "5c815be1",
   "metadata": {},
   "outputs": [],
   "source": [
    "def pretrain_masked_lm(model, loader, num_epochs=10, device='cuda:0'):\n",
    "    model.to(device)\n",
    "    model.train() \n",
    "    \n",
    "    criterion = nn.CrossEntropyLoss()\n",
    "    optimizer = optim.Adam(model.parameters(), lr=0.0001)\n",
    "    \n",
    "    train_loss = []\n",
    "    avg_batch_loss = []\n",
    "    for epoch in tqdm(range(num_epochs)):\n",
    "        avg_batch_loss = []\n",
    "        for batch in loader:\n",
    "            batch = apply_mask(batch)\n",
    "            outputs = model(input_ids=batch['input_ids'],\n",
    "                        attention_mask=batch['attention_mask'], \n",
    "                        labels=batch['labels'].long(), \n",
    "                        output_hidden_states=True,\n",
    "                        return_dict=True\n",
    "                       )\n",
    "            loss = outputs.loss\n",
    "            #print(loss)\n",
    "            \n",
    "            loss.backward()\n",
    "            optimizer.step()\n",
    "            optimizer.zero_grad()\n",
    "            avg_batch_loss.append(loss.item())\n",
    "        \n",
    "        avg = sum(avg_batch_loss) / len(avg_batch_loss)\n",
    "        train_loss.append(avg)\n",
    "        \n",
    "    return train_loss\n",
    "\n",
    "\n"
   ]
  },
  {
   "cell_type": "code",
   "execution_count": 18,
   "id": "365b47e6",
   "metadata": {},
   "outputs": [
    {
     "name": "stderr",
     "output_type": "stream",
     "text": [
      "  0%|                                                                                                                                | 0/10 [00:00<?, ?it/s]/tmp/ipykernel_1420320/2385670290.py:23: UserWarning: This overload of nonzero is deprecated:\n",
      "\tnonzero()\n",
      "Consider using one of the following signatures instead:\n",
      "\tnonzero(*, bool as_tuple) (Triggered internally at  /pytorch/torch/csrc/utils/python_arg_parser.cpp:882.)\n",
      "  selection = mask_arr.nonzero().tolist()\n",
      "100%|██████████████████████████████████████████████████████████████████████████████████████████████████████████████████████| 10/10 [19:52<00:00, 119.22s/it]\n"
     ]
    },
    {
     "name": "stdout",
     "output_type": "stream",
     "text": [
      "min loss value 0.14127627861532221\n"
     ]
    },
    {
     "data": {
      "image/png": "[encoded data removed]",
      "text/plain": [
       "<Figure size 432x288 with 1 Axes>"
      ]
     },
     "metadata": {
      "needs_background": "light"
     },
     "output_type": "display_data"
    }
   ],
   "source": [
    "# <Build and train a MLM for correct opinions>\n",
    "\n",
    "train_loss = pretrain_masked_lm(bert_mlm_positive, positive_loader)\n",
    "\n",
    "torch.save(bert_mlm_positive.state_dict(), 'bert_positive.pth')\n",
    "\n",
    "convergence_graph(train_loss) "
   ]
  },
  {
   "cell_type": "code",
   "execution_count": 6,
   "id": "d43a4b4b",
   "metadata": {},
   "outputs": [
    {
     "name": "stderr",
     "output_type": "stream",
     "text": [
      "  0%|                                                                                                                                | 0/10 [00:00<?, ?it/s]/tmp/ipykernel_1422411/2385670290.py:23: UserWarning: This overload of nonzero is deprecated:\n",
      "\tnonzero()\n",
      "Consider using one of the following signatures instead:\n",
      "\tnonzero(*, bool as_tuple) (Triggered internally at  /pytorch/torch/csrc/utils/python_arg_parser.cpp:882.)\n",
      "  selection = mask_arr.nonzero().tolist()\n",
      "100%|██████████████████████████████████████████████████████████████████████████████████████████████████████████████████████| 10/10 [21:05<00:00, 126.51s/it]\n"
     ]
    },
    {
     "name": "stdout",
     "output_type": "stream",
     "text": [
      "min loss value 0.14769063119880294\n"
     ]
    },
    {
     "data": {
      "image/png": "[encoded data removed]",
      "text/plain": [
       "<Figure size 432x288 with 1 Axes>"
      ]
     },
     "metadata": {
      "needs_background": "light"
     },
     "output_type": "display_data"
    }
   ],
   "source": [
    "# <Build and train a MLM for incorrect opinions>\n",
    "\n",
    "train_loss2 = pretrain_masked_lm(bert_mlm_negative, negative_loader, num_epochs=10)\n",
    "\n",
    "torch.save(bert_mlm_negative.state_dict(), 'bert_negative.pth')\n",
    "\n",
    "convergence_graph(train_loss2) "
   ]
  },
  {
   "cell_type": "markdown",
   "id": "5f4add57",
   "metadata": {},
   "source": [
    "### Load finetuned MLM Model from file"
   ]
  },
  {
   "cell_type": "code",
   "execution_count": 8,
   "id": "622e5e13",
   "metadata": {},
   "outputs": [
    {
     "name": "stderr",
     "output_type": "stream",
     "text": [
      "Some weights of the model checkpoint at bert-base-uncased were not used when initializing BertForMaskedLM: ['cls.seq_relationship.weight', 'cls.seq_relationship.bias']\n",
      "- This IS expected if you are initializing BertForMaskedLM from the checkpoint of a model trained on another task or with another architecture (e.g. initializing a BertForSequenceClassification model from a BertForPreTraining model).\n",
      "- This IS NOT expected if you are initializing BertForMaskedLM from the checkpoint of a model that you expect to be exactly identical (initializing a BertForSequenceClassification model from a BertForSequenceClassification model).\n"
     ]
    },
    {
     "name": "stdout",
     "output_type": "stream",
     "text": [
      "\n"
     ]
    }
   ],
   "source": [
    "bert_mlm_positive = BertForMaskedLM.from_pretrained('bert-base-uncased', return_dict=True)\n",
    "\n",
    "bert_mlm_positive.load_state_dict(torch.load('bert_positive.pth'))     \n",
    "\n",
    "bert_mlm_positive.to(device)\n",
    "\n",
    "print()"
   ]
  },
  {
   "cell_type": "markdown",
   "id": "1deb3de0",
   "metadata": {},
   "source": [
    "# Part 2: Replace tokens\n",
    "\n",
    "We can now use the two masked language models to align user opinions. We can do so with the following steps:\n",
    "\n",
    "1. Find tokens where the ratio $(P_{positive}(x) + \\epsilon) / (P_{negative}(x) + \\epsilon)$ is the smallest\n",
    "2. Replace those tokens with one of $k$ most likely tokens according to $P_{positive}(x)$.\n",
    "3. Rinse, repeat\n",
    "\n",
    "You can find the full procedure at https://arxiv.org/abs/2010.01054"
   ]
  },
  {
   "cell_type": "code",
   "execution_count": 9,
   "id": "95bea3bc",
   "metadata": {},
   "outputs": [
    {
     "data": {
      "text/plain": [
       "'food is good and quite delicious.'"
      ]
     },
     "execution_count": 9,
     "metadata": {},
     "output_type": "execute_result"
    }
   ],
   "source": [
    "from copy import deepcopy \n",
    "from transformers import pipeline\n",
    "import random\n",
    "\n",
    "def get_replacements(sentence: str, num_tokens, k_best, epsilon=1e-3, device='cuda:0'):\n",
    "    \n",
    "    bert_mlm_positive.to(device)\n",
    "    bert_mlm_negative.to(device)\n",
    "   \n",
    "    bert_mlm_positive.eval()\n",
    "    bert_mlm_negative.eval()\n",
    "    \n",
    "    \"\"\"\n",
    "    - split the sentence into tokens using the BERT tokenizer\n",
    "    - find :num_tokens: tokens with the highest ratio (see above)\n",
    "    - replace them with :k_best: words according to bert_mlm_positive\n",
    "    :return: a list of all possible strings (up to k_best * num_tokens)\n",
    "    \"\"\"\n",
    "\n",
    "    example = tokenizer(sentence, return_tensors='pt').to(device)\n",
    "    sample_dict = {}\n",
    "    for i in range(1, example['input_ids'].shape[1] - 1):\n",
    "        masked_example = deepcopy(example)\n",
    "        \n",
    "        masked_example['input_ids'][0][i] = 103\n",
    "        label = example['input_ids'][0][i].cpu()\n",
    "        \n",
    "        with torch.no_grad():\n",
    "            positive_outputs = bert_mlm_positive(input_ids=masked_example['input_ids'],\n",
    "                        attention_mask=masked_example['attention_mask'], \n",
    "                       ).logits.cpu()\n",
    "            \n",
    "            negative_outputs = bert_mlm_negative(input_ids=masked_example['input_ids'],\n",
    "                                                 attention_mask=example['attention_mask'], \n",
    "                                                ).logits.cpu()\n",
    "        \n",
    "        #print(\"\\n\", tokenizer.decode(label))   \n",
    "        positive_score = positive_outputs[0][i][label]\n",
    "        \n",
    "        negative_score = negative_outputs[0][i][label]\n",
    "        \n",
    "        score = (positive_score + epsilon) / (negative_score + epsilon)\n",
    "        #print(\"score:\", score, \"\\n\")             \n",
    "        sample_dict[label] = [score, i]\n",
    "    \n",
    "    \n",
    "    score_dict = dict(sorted(sample_dict.items(), key=lambda item: item[1], reverse=False))  # sort dict\n",
    "    #print(score_dict)\n",
    "    \n",
    "    token_dict = {}\n",
    "    #token_list = list(score_dict)[: num_tokens]\n",
    "    token_list = list(score_dict.items())[: num_tokens]\n",
    "    \n",
    "    with torch.no_grad():\n",
    "        unmasker = pipeline('fill-mask', model=bert_mlm_positive.cpu(), tokenizer=tokenizer)\n",
    "    \n",
    "    #print(token_list)\n",
    "    for token in token_list:\n",
    "        modified = example['input_ids'].clone()\n",
    "        #modified = torch.where(modified==token[0] ,torch.tensor(103).to(device),modified).cpu()\n",
    "        modified[0][token[1][1]] = 103\n",
    "        modified = list(modified[0])\n",
    "        modified = tokenizer.decode(modified)\n",
    "        new_sentences = unmasker(modified)[:k_best]\n",
    "        for i in range(k_best):\n",
    "            val_arr = []\n",
    "            for i, val in enumerate(new_sentences):\n",
    "                val_arr.append(val['token'])\n",
    "            token_dict[token[0]] = val_arr\n",
    "            \n",
    "    #print(token_dict)\n",
    "    \n",
    "    modified = example['input_ids'].clone().cpu()\n",
    "    for key in token_dict:\n",
    "        elem = random.choice(token_dict[key])\n",
    "        modified = torch.where(modified==key,torch.tensor(elem), modified).cpu()\n",
    "    \n",
    "    modified = list(modified[0])\n",
    "    modified = tokenizer.decode(modified, skip_special_tokens=True) \n",
    "    \n",
    "    return modified\n",
    "\n",
    "\n",
    "get_replacements(\"food is bad and quite horrible.\", 2, 3)\n"
   ]
  },
  {
   "cell_type": "code",
   "execution_count": 16,
   "id": "fa290213",
   "metadata": {},
   "outputs": [
    {
     "data": {
      "text/plain": [
       "'the pizza has a twist!'"
      ]
     },
     "execution_count": 16,
     "metadata": {},
     "output_type": "execute_result"
    }
   ],
   "source": [
    "get_replacements(\"the pizza has a bad taste\", num_tokens=2, k_best=3)"
   ]
  },
  {
   "cell_type": "code",
   "execution_count": 18,
   "id": "8d04e1a1",
   "metadata": {},
   "outputs": [
    {
     "data": {
      "text/plain": [
       "'i was very enjoyed working here'"
      ]
     },
     "execution_count": 18,
     "metadata": {},
     "output_type": "execute_result"
    }
   ],
   "source": [
    "get_replacements(\"I was very unhappy coming here\", num_tokens=2, k_best=3)"
   ]
  },
  {
   "cell_type": "code",
   "execution_count": null,
   "id": "58cdc1e2",
   "metadata": {},
   "outputs": [],
   "source": []
  }
 ],
 "metadata": {
  "kernelspec": {
   "display_name": "Python 3 (ipykernel)",
   "language": "python",
   "name": "python3"
  },
  "language_info": {
   "codemirror_mode": {
    "name": "ipython",
    "version": 3
   },
   "file_extension": ".py",
   "mimetype": "text/x-python",
   "name": "python",
   "nbconvert_exporter": "python",
   "pygments_lexer": "ipython3",
   "version": "3.8.11"
  }
 },
 "nbformat": 4,
 "nbformat_minor": 5
}
